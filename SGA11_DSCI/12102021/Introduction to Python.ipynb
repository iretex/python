{
 "cells": [
  {
   "cell_type": "code",
   "execution_count": 13,
   "metadata": {},
   "outputs": [
    {
     "data": {
      "text/plain": [
       "'Today\\n is Tuesday'"
      ]
     },
     "execution_count": 13,
     "metadata": {},
     "output_type": "execute_result"
    }
   ],
   "source": [
    "string_with_esc_char = \"Today\\n is Tuesday\"\n",
    "\n",
    "string_with_tab_char = \"Today\\t is\\n Tuesday\"\n",
    "\n",
    "string_without_raw_char = \"C:\\\\Users\\\\ng005454\\\\OneDrive\\\\Project\\\\STUTERN\\\\SGA11_DSCI\\\\12102021\"\n",
    "\n",
    "string_with_raw_char = r\"C:\\Users\\ng005454\\OneDrive\\Project\\STUTERN\\SGA11_DSCI\\12102021\"\n",
    "\n",
    "string_with_esc_char"
   ]
  },
  {
   "cell_type": "code",
   "execution_count": 6,
   "metadata": {},
   "outputs": [
    {
     "name": "stdout",
     "output_type": "stream",
     "text": [
      "Today\n",
      " is Tuesday\n"
     ]
    }
   ],
   "source": [
    "print(string_with_esc_char)"
   ]
  },
  {
   "cell_type": "code",
   "execution_count": 9,
   "metadata": {},
   "outputs": [
    {
     "name": "stdout",
     "output_type": "stream",
     "text": [
      "Today\t is\n",
      " Tuesday\n"
     ]
    }
   ],
   "source": [
    "print(string_with_tab_char)"
   ]
  },
  {
   "cell_type": "code",
   "execution_count": 14,
   "metadata": {},
   "outputs": [
    {
     "name": "stdout",
     "output_type": "stream",
     "text": [
      "C:\\Users\\ng005454\\OneDrive\\Project\\STUTERN\\SGA11_DSCI\\12102021\n"
     ]
    }
   ],
   "source": [
    "print(string_without_raw_char)"
   ]
  },
  {
   "cell_type": "code",
   "execution_count": 15,
   "metadata": {},
   "outputs": [
    {
     "data": {
      "text/plain": [
       "'C:\\\\Users\\\\ng005454\\\\OneDrive\\\\Project\\\\STUTERN\\\\SGA11_DSCI\\\\12102021'"
      ]
     },
     "execution_count": 15,
     "metadata": {},
     "output_type": "execute_result"
    }
   ],
   "source": [
    "string_with_raw_char"
   ]
  },
  {
   "cell_type": "markdown",
   "metadata": {},
   "source": [
    "# Introduction to Python Programming"
   ]
  },
  {
   "cell_type": "code",
   "execution_count": null,
   "metadata": {},
   "outputs": [],
   "source": [
    "# Conditional Statements"
   ]
  },
  {
   "cell_type": "code",
   "execution_count": 23,
   "metadata": {},
   "outputs": [
    {
     "data": {
      "text/plain": [
       "True"
      ]
     },
     "execution_count": 23,
     "metadata": {},
     "output_type": "execute_result"
    }
   ],
   "source": [
    "a = 1\n",
    "b = \"1\"\n",
    "\n",
    "# a == int(b)\n",
    "# str(a) == b\n",
    "# a != b\n",
    "i = 6\n",
    "\n",
    "i <= 6"
   ]
  },
  {
   "cell_type": "code",
   "execution_count": null,
   "metadata": {},
   "outputs": [],
   "source": [
    "# Branching"
   ]
  },
  {
   "cell_type": "code",
   "execution_count": 30,
   "metadata": {},
   "outputs": [],
   "source": [
    "# If statement\n",
    "\n",
    "today = \"Mon\"\n",
    "\n",
    "if today in [\"Tuesday\",\"Friday\"]:\n",
    "    print(\"There will be a live class today\")"
   ]
  },
  {
   "cell_type": "code",
   "execution_count": 39,
   "metadata": {},
   "outputs": [
    {
     "name": "stdout",
     "output_type": "stream",
     "text": [
      "Tuesday\n"
     ]
    }
   ],
   "source": [
    "today = input()\n",
    "\n",
    "print(today)\n",
    "if (today ==\"Tuesday\") & (today == \"Friday\"):\n",
    "    print(\"There will be a live class today\")\n"
   ]
  },
  {
   "cell_type": "code",
   "execution_count": 43,
   "metadata": {},
   "outputs": [
    {
     "name": "stdout",
     "output_type": "stream",
     "text": [
      "Thursday : There is no class today\n"
     ]
    }
   ],
   "source": [
    "today = input()\n",
    "\n",
    "if (today ==\"Tuesday\") | (today == \"Friday\"):\n",
    "    print(today+\":\",\"There will be a live class today\")\n",
    "else:\n",
    "    print(today+\" : There is no class today\")"
   ]
  },
  {
   "cell_type": "code",
   "execution_count": 53,
   "metadata": {},
   "outputs": [
    {
     "name": "stdout",
     "output_type": "stream",
     "text": [
      "There will be a live class on Tuesday and Friday\n"
     ]
    }
   ],
   "source": [
    "# elif with f-string\n",
    "\n",
    "today = input()\n",
    "another_day = \"Friday\"\n",
    "\n",
    "if today ==\"Tuesday\":\n",
    "    print(f\"There will be a live class on {today} and {another_day}\",)\n",
    "elif  today == \"Friday\":\n",
    "    print(today+\":\",\"There will be a live class today\")\n",
    "else:\n",
    "    print(today+\" : There is no class today\")"
   ]
  }
 ],
 "metadata": {
  "interpreter": {
   "hash": "d1b4ddb41c9dd5a1026c63269c15592dfdfba4790bc77b6c6846f2eeb17b4cc6"
  },
  "kernelspec": {
   "display_name": "Python 3.9.7 64-bit ('env': venv)",
   "name": "python3"
  },
  "language_info": {
   "codemirror_mode": {
    "name": "ipython",
    "version": 3
   },
   "file_extension": ".py",
   "mimetype": "text/x-python",
   "name": "python",
   "nbconvert_exporter": "python",
   "pygments_lexer": "ipython3",
   "version": "3.9.7"
  },
  "orig_nbformat": 4
 },
 "nbformat": 4,
 "nbformat_minor": 2
}
