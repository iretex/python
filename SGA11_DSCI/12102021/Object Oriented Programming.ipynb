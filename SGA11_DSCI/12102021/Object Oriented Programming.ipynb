{
 "cells": [
  {
   "cell_type": "markdown",
   "metadata": {},
   "source": [
    "# Functions"
   ]
  },
  {
   "cell_type": "code",
   "execution_count": 5,
   "metadata": {},
   "outputs": [
    {
     "name": "stdout",
     "output_type": "stream",
     "text": [
      "Friday\n"
     ]
    }
   ],
   "source": [
    "def print_input_with_optional_param(a = \"Tueday\"):\n",
    "    print(a)\n",
    "\n",
    "\n",
    "# print_input_with_optional_param()\n",
    "print_input_with_optional_param(\"Friday\")"
   ]
  },
  {
   "cell_type": "code",
   "execution_count": 3,
   "metadata": {},
   "outputs": [
    {
     "name": "stdout",
     "output_type": "stream",
     "text": [
      "Today is Tuesday\n"
     ]
    }
   ],
   "source": [
    "def print_input_with_required_param(a):\n",
    "    print(a)\n",
    "\n",
    "\n",
    "print_input_with_required_param(\"Today is Tuesday\")"
   ]
  },
  {
   "cell_type": "markdown",
   "metadata": {},
   "source": [
    "# Class"
   ]
  },
  {
   "cell_type": "code",
   "execution_count": 22,
   "metadata": {},
   "outputs": [],
   "source": [
    "# docstring\n",
    "single_line_string_1 = \"shirt\"\n",
    "single_line_string_2 = 'shirt'\n",
    "\n",
    "\n",
    "multi_line_string = '''\n",
    "This \n",
    "is\n",
    "a\n",
    "multi-line\n",
    "string\n",
    "'''"
   ]
  },
  {
   "cell_type": "code",
   "execution_count": 25,
   "metadata": {},
   "outputs": [
    {
     "name": "stdout",
     "output_type": "stream",
     "text": [
      "\n",
      "This \n",
      "is\n",
      "a\n",
      "multi-line\n",
      "string\n",
      "\n"
     ]
    }
   ],
   "source": [
    "print(multi_line_string)"
   ]
  },
  {
   "cell_type": "code",
   "execution_count": 26,
   "metadata": {},
   "outputs": [],
   "source": [
    "class Shirt:\n",
    "    '''\n",
    "    This is a shirt class.\n",
    "\n",
    "    inputs:\n",
    "    color - red\n",
    "    size - 5\n",
    "    style - long-sleeve\n",
    "    price - 3,500\n",
    "    has pocket - True\n",
    "\n",
    "    methods:\n",
    "    change_price - update the default price to a new price\n",
    "    discount - applies a specified discount\n",
    "    '''\n",
    "\n",
    "    def __init__(self, color, size, style, price, has_pocket):\n",
    "        self.color = color\n",
    "        self.size = size\n",
    "        self.style = style\n",
    "        self.price = price\n",
    "        self.has_pocket = has_pocket\n",
    "    \n",
    "    def change_price(self,new_price):\n",
    "        self.price = new_price\n",
    "        if self.has_pocket:\n",
    "            print(self.price)\n",
    "\n",
    "    def discount(self, discount):\n",
    "        return self.price * (1 - discount)"
   ]
  },
  {
   "cell_type": "code",
   "execution_count": 27,
   "metadata": {},
   "outputs": [],
   "source": [
    "# Instantiate a shirt object with the below characteristics;\n",
    "# color - red\n",
    "# size - 5\n",
    "# style - long-sleeve\n",
    "# price - 3,500\n",
    "# has pocket - True\n",
    "\n",
    "\n",
    "shirt_one = Shirt(\"red\",5,\"long-sleeve\", 3500, True)\n",
    "\n"
   ]
  },
  {
   "cell_type": "code",
   "execution_count": 9,
   "metadata": {},
   "outputs": [
    {
     "data": {
      "text/plain": [
       "5"
      ]
     },
     "execution_count": 9,
     "metadata": {},
     "output_type": "execute_result"
    }
   ],
   "source": [
    "# print the price of shirt_one\n",
    "shirt_one.size"
   ]
  },
  {
   "cell_type": "code",
   "execution_count": 21,
   "metadata": {},
   "outputs": [],
   "source": [
    "# dir(shirt_one)"
   ]
  },
  {
   "cell_type": "code",
   "execution_count": 11,
   "metadata": {},
   "outputs": [
    {
     "data": {
      "text/plain": [
       "'long-sleeve'"
      ]
     },
     "execution_count": 11,
     "metadata": {},
     "output_type": "execute_result"
    }
   ],
   "source": [
    "shirt_one.style"
   ]
  },
  {
   "cell_type": "code",
   "execution_count": 20,
   "metadata": {},
   "outputs": [
    {
     "name": "stdout",
     "output_type": "stream",
     "text": [
      "Previous price 3500\n",
      "1550\n"
     ]
    }
   ],
   "source": [
    "# change the shirt price to 15\n",
    "print(\"Previous price\", shirt_one.price)\n",
    "\n",
    "shirt_one.change_price(1550)\n",
    "\n",
    "# print(\"New price\", shirt_one.price)"
   ]
  },
  {
   "cell_type": "code",
   "execution_count": 28,
   "metadata": {},
   "outputs": [
    {
     "name": "stdout",
     "output_type": "stream",
     "text": [
      "\u001b[1;31mType:\u001b[0m        Shirt\n",
      "\u001b[1;31mString form:\u001b[0m <__main__.Shirt object at 0x000002AA78A41F40>\n",
      "\u001b[1;31mDocstring:\u001b[0m  \n",
      "This is a shirt class.\n",
      "\n",
      "inputs:\n",
      "color - red\n",
      "size - 5\n",
      "style - long-sleeve\n",
      "price - 3,500\n",
      "has pocket - True\n",
      "\n",
      "methods:\n",
      "change_price - update the default price to a new price\n",
      "discount - applies a specified discount\n"
     ]
    }
   ],
   "source": [
    "?shirt_one"
   ]
  },
  {
   "cell_type": "code",
   "execution_count": 29,
   "metadata": {},
   "outputs": [
    {
     "name": "stdout",
     "output_type": "stream",
     "text": [
      "Help on Shirt in module __main__ object:\n",
      "\n",
      "class Shirt(builtins.object)\n",
      " |  Shirt(color, size, style, price, has_pocket)\n",
      " |  \n",
      " |  This is a shirt class.\n",
      " |  \n",
      " |  inputs:\n",
      " |  color - red\n",
      " |  size - 5\n",
      " |  style - long-sleeve\n",
      " |  price - 3,500\n",
      " |  has pocket - True\n",
      " |  \n",
      " |  methods:\n",
      " |  change_price - update the default price to a new price\n",
      " |  discount - applies a specified discount\n",
      " |  \n",
      " |  Methods defined here:\n",
      " |  \n",
      " |  __init__(self, color, size, style, price, has_pocket)\n",
      " |      Initialize self.  See help(type(self)) for accurate signature.\n",
      " |  \n",
      " |  change_price(self, new_price)\n",
      " |  \n",
      " |  discount(self, discount)\n",
      " |  \n",
      " |  ----------------------------------------------------------------------\n",
      " |  Data descriptors defined here:\n",
      " |  \n",
      " |  __dict__\n",
      " |      dictionary for instance variables (if defined)\n",
      " |  \n",
      " |  __weakref__\n",
      " |      list of weak references to the object (if defined)\n",
      "\n"
     ]
    }
   ],
   "source": [
    "help(shirt_one)"
   ]
  }
 ],
 "metadata": {
  "interpreter": {
   "hash": "d1b4ddb41c9dd5a1026c63269c15592dfdfba4790bc77b6c6846f2eeb17b4cc6"
  },
  "kernelspec": {
   "display_name": "Python 3.9.7 64-bit ('env': venv)",
   "name": "python3"
  },
  "language_info": {
   "codemirror_mode": {
    "name": "ipython",
    "version": 3
   },
   "file_extension": ".py",
   "mimetype": "text/x-python",
   "name": "python",
   "nbconvert_exporter": "python",
   "pygments_lexer": "ipython3",
   "version": "3.9.7"
  },
  "orig_nbformat": 4
 },
 "nbformat": 4,
 "nbformat_minor": 2
}
